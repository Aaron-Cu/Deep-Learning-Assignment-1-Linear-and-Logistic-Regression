{
 "cells": [
  {
   "cell_type": "code",
   "execution_count": 1,
   "id": "aca0f509-c3cc-4c7d-a04c-9e666c183dbd",
   "metadata": {},
   "outputs": [],
   "source": [
    "import numpy as np\n",
    "import pandas as pd\n",
    "import matplotlib.pyplot as plt\n",
    "import random\n",
    "from sklearn.model_selection import train_test_split"
   ]
  },
  {
   "cell_type": "code",
   "execution_count": 2,
   "id": "eaca1adb-7714-4904-ab6a-3f19b472f822",
   "metadata": {},
   "outputs": [],
   "source": [
    "datafile = \"weather_data.csv\""
   ]
  },
  {
   "cell_type": "code",
   "execution_count": 3,
   "id": "3c86444a-397f-4919-9ae1-881795664005",
   "metadata": {},
   "outputs": [],
   "source": [
    "def get_data(filename):\n",
    "    df = pd.read_csv(filename)\n",
    "    X_ = df[[\"Humidity\",\"Visibility (km)\"]]\n",
    "    Y_ = df[[\"Temperature (C)\"]]\n",
    "    \n",
    "    # Spliting data into train and test sets\n",
    "    X_train, X_test, y_train, y_test = train_test_split(X_, Y_, test_size=0.25, random_state=42)\n",
    "\n",
    "   \n",
    "    \n",
    "    return X_train, X_test, y_train, y_test\n",
    "\n"
   ]
  },
  {
   "cell_type": "code",
   "execution_count": 4,
   "id": "bcf8bcc2-b8a8-4dda-ac47-cf9e699b7d94",
   "metadata": {},
   "outputs": [
    {
     "name": "stdout",
     "output_type": "stream",
     "text": [
      "(72321, 2) (24108, 2) (72321, 1) (24108, 1)\n"
     ]
    }
   ],
   "source": [
    "X_train, X_test, y_train, y_test = get_data(datafile)\n",
    "print(X_train.shape, X_test.shape, y_train.shape, y_test.shape)"
   ]
  },
  {
   "cell_type": "code",
   "execution_count": 5,
   "id": "1ba96812-e5ab-4355-a434-bc055b67318c",
   "metadata": {},
   "outputs": [],
   "source": [
    "def data_iter(batch_size, X, y):\n",
    "    num_examples = len(X)\n",
    "    indices = list(range(num_examples))\n",
    "    # The examples are read at random, in no particular order\n",
    "    random.shuffle(indices)\n",
    "    for i in range(0, num_examples, batch_size):\n",
    "        #write your code here to retrun batch wise X,y\n",
    "        yield X[i:min(i + batch_size, num_examples)], y[i:min(i + batch_size, num_examples)] \n",
    "    return"
   ]
  },
  {
   "cell_type": "code",
   "execution_count": 6,
   "id": "bc0f6471-6b36-469b-96f6-fc31800aa284",
   "metadata": {},
   "outputs": [
    {
     "name": "stdout",
     "output_type": "stream",
     "text": [
      "       Humidity  Visibility (km)\n",
      "25072      0.82            0.643\n",
      "76967      0.96            0.040\n",
      "22153      0.90            0.983\n",
      "38552      0.85            0.056\n",
      "82925      0.49            0.966\n",
      "...         ...              ...\n",
      "20586      0.85            0.227\n",
      "29321      0.92            0.160\n",
      "44059      0.41            0.620\n",
      "67937      0.53            0.620\n",
      "21572      0.78            0.711\n",
      "\n",
      "[24108 rows x 2 columns] \n",
      "        Temperature (C)\n",
      "25072         0.563251\n",
      "76967         0.407837\n",
      "22153         0.677077\n",
      "38552         0.276862\n",
      "82925         0.822798\n",
      "...                ...\n",
      "20586         0.409577\n",
      "29321         0.322177\n",
      "44059         0.652473\n",
      "67937         0.744346\n",
      "21572         0.654213\n",
      "\n",
      "[24108 rows x 1 columns]\n"
     ]
    }
   ],
   "source": [
    "#define your batch size\n",
    "batch_size = 24108\n",
    "\n",
    "for X, y in data_iter(batch_size, X_test, y_test):\n",
    "    print(X, '\\n', y)\n",
    "    break"
   ]
  },
  {
   "cell_type": "markdown",
   "id": "55ef3630-01cf-464f-b56a-92e713d77f9f",
   "metadata": {},
   "source": [
    "## create and initialize model parameter"
   ]
  },
  {
   "cell_type": "code",
   "execution_count": 7,
   "id": "e0af4781-33ef-4028-96ae-292b6d832557",
   "metadata": {},
   "outputs": [],
   "source": [
    "\n",
    "def create_model_parameter(mu, sigma, row, column):\n",
    "    w = np.random.normal(mu, sigma, size=(row, column))\n",
    "    w = np.transpose(w)\n",
    "    w.reshape((2,1))\n",
    "    b = np.zeros(1, dtype=float)\n",
    "    return w,b"
   ]
  },
  {
   "cell_type": "code",
   "execution_count": 8,
   "id": "5eedb7cb-dd14-4846-81f6-4c8da0172642",
   "metadata": {},
   "outputs": [],
   "source": [
    "def model(X, w, b):  \n",
    "    \"\"\"The linear regression model.\"\"\"\n",
    "    # write your code here\n",
    "    return np.dot(X, w) + b[0]"
   ]
  },
  {
   "cell_type": "code",
   "execution_count": 9,
   "id": "02c0e45c-282b-47d4-843d-ad17240c48db",
   "metadata": {},
   "outputs": [],
   "source": [
    "def squared_loss(y_hat, y):  #@save\n",
    "    \"\"\"Squared loss.\"\"\"\n",
    "    #write your code here for loss function\n",
    "    return np.mean(np.square(y_hat - y), axis=0)"
   ]
  },
  {
   "cell_type": "code",
   "execution_count": 10,
   "id": "1b62bab5-e732-4e2f-b0e8-522aa8c8dd56",
   "metadata": {},
   "outputs": [],
   "source": [
    "def gradient(X, y, y_hat, loss):\n",
    "    #compute gradeint of loss function with respect to params\n",
    "    grads = np.array([[(2/len(X))*np.dot((y_hat - y).T, X ).T], [(2/len(X))*np.sum(y_hat - y)]], dtype=object)\n",
    "    return grads\n",
    "    "
   ]
  },
  {
   "cell_type": "code",
   "execution_count": 11,
   "id": "831e6f57-6816-4569-83ce-f51c3238e4b2",
   "metadata": {},
   "outputs": [],
   "source": [
    "def sgd(w, b, grads, lr, batch_size):  #@save\n",
    "    \"\"\"Minibatch stochastic gradient descent.\"\"\"\n",
    "    #write your code for updating your parameter using gradient descent algorithm\n",
    "    #Example: theta = theta - (lr * grad)/batch_size\n",
    "    w[0][0] = w[0][0] - (lr * grads[0][0][0])/batch_size\n",
    "    w[1][0] = w[1][0] - (lr * grads[0][0][1])/batch_size\n",
    "    b = b - (lr * np.array([grads[1][0]]))/batch_size\n",
    "    return w , b\n",
    "    "
   ]
  },
  {
   "cell_type": "code",
   "execution_count": 12,
   "id": "e3ad6f1d-4600-4683-acad-43f344bc9b71",
   "metadata": {},
   "outputs": [],
   "source": [
    "def train(lr,num_epochs,X,y, w ,b):\n",
    "    # write your own code and modify the below code as needed\n",
    "    loss = np.zeros(num_epochs)\n",
    "    for epoch in range(num_epochs):\n",
    "        i=1\n",
    "        batches = data_iter(batch_size, X, y)\n",
    "        for X_batch, y_batch in batches:\n",
    "           y_hat = model(X_batch, w, b)\n",
    "           loss[epoch] = squared_loss(y_hat, y_batch)\n",
    "           grads = gradient(X_batch, y_batch, y_hat, loss)\n",
    "           w, b = sgd(w, b, grads, lr, batch_size)\n",
    "           #print('batch:' , i , \" samlpes:\", i*batch_size, \" loss:\", loss[epoch])\n",
    "           i += 1\n",
    "           print(\"Batch: \"+str(i)+\" Epoch: \"+str(epoch+1)+\" loss: \"+str(loss[epoch]), end='\\r')\n",
    "        if (((epoch+1) % 10000) == 0):\n",
    "            print(\"Epoch: [\", epoch+1, \"/\", num_epochs,\"]\" ' Loss: ', loss[epoch])\n",
    "           \n",
    "        # train_l = squared_loss(net(features, w, b), labels)\n",
    "        # print(f'epoch {epoch + 1}, loss {float(tf.reduce_mean(train_l)):f}')\n",
    "    \n",
    "    return epoch, loss, w, b"
   ]
  },
  {
   "cell_type": "code",
   "execution_count": 25,
   "id": "e641a34f-4da9-4e91-8f9c-6099898e927b",
   "metadata": {},
   "outputs": [],
   "source": [
    "def draw_loss(num_epochs,loss_s, loss_e, loss_l):\n",
    "    plt.plot(num_epochs, loss_s, label = \"Small Batch 2048\") \n",
    "    plt.plot(num_epochs, loss_e, label = \"'Exact' Batch 8192\") \n",
    "    plt.plot(num_epochs, loss_l, label = \"Large Batch 24108\") \n",
    "    plt.legend()\n",
    "    plt.ylim(0,0.7)\n",
    "    plt.title(\"Number of Epochs VS Loss\")\n",
    "    plt.xlabel(\"Epoch\")\n",
    "    plt.ylabel(\"Mean Squared Loss\")\n",
    "    plt.show()"
   ]
  },
  {
   "cell_type": "code",
   "execution_count": 14,
   "id": "cb150004-1e6f-482f-b54a-5f60988a2b8c",
   "metadata": {},
   "outputs": [],
   "source": [
    "def test(X, y, w, b):\n",
    "    # write your own code \n",
    "    #predict temperature for the given humidity and visibility\n",
    "    y_hat = model(X, w, b)\n",
    "    loss = squared_loss(y_hat, y)\n",
    "    return loss"
   ]
  },
  {
   "cell_type": "code",
   "execution_count": 24,
   "id": "6a54758c",
   "metadata": {},
   "outputs": [
    {
     "name": "stdout",
     "output_type": "stream",
     "text": [
      "Epoch: [ 10000 / 60000 ] Loss:  0.035676750432662586\n",
      "Epoch: [ 20000 / 60000 ] Loss:  0.025495338351697233\n",
      "Epoch: [ 30000 / 60000 ] Loss:  0.020650797747302965\n",
      "Epoch: [ 40000 / 60000 ] Loss:  0.018342227250553584\n",
      "Epoch: [ 50000 / 60000 ] Loss:  0.017239364474395915\n",
      "Epoch: [ 60000 / 60000 ] Loss:  0.01671050218134967\n",
      "Epoch: [ 10000 / 60000 ] Loss:  0.041950992054031744\n",
      "Epoch: [ 20000 / 60000 ] Loss:  0.04053220474039799\n",
      "Epoch: [ 30000 / 60000 ] Loss:  0.039319867431152386\n",
      "Epoch: [ 40000 / 60000 ] Loss:  0.03817683546752418\n",
      "Epoch: [ 50000 / 60000 ] Loss:  0.03709665627890796\n",
      "Epoch: [ 60000 / 60000 ] Loss:  0.03607423144296116\n",
      "Epoch: [ 10000 / 60000 ] Loss:  0.15124138445090837\n",
      "Epoch: [ 20000 / 60000 ] Loss:  0.10505072419755478\n",
      "Epoch: [ 30000 / 60000 ] Loss:  0.08167765698382287\n",
      "Epoch: [ 40000 / 60000 ] Loss:  0.06977520397010384\n",
      "Epoch: [ 50000 / 60000 ] Loss:  0.06363678542413033\n",
      "Epoch: [ 60000 / 60000 ] Loss:  0.06039351571838486\n"
     ]
    }
   ],
   "source": [
    "LEARNING_RATE = 0.07\n",
    "EPOCHS = 60000\n",
    "batch_size = 2048\n",
    "w_small, b_small = create_model_parameter(np.mean(X_train, axis=0), np.std(X_train), 1, 2)\n",
    "epoch_small, loss_small, w_small, b_small = train(LEARNING_RATE, EPOCHS, X_train, y_train, w_small, b_small)\n",
    "batch_size = 8192\n",
    "w_exact, b_exact = create_model_parameter(np.mean(X_train, axis=0), np.std(X_train), 1, 2)\n",
    "epoch_exact, loss_exact, w_exact, b_exact = train(LEARNING_RATE, EPOCHS, X_train, y_train, w_exact, b_exact)\n",
    "batch_size = 24108\n",
    "w_large, b_large = create_model_parameter(np.mean(X_train, axis=0), np.std(X_train), 1, 2)\n",
    "epoch_large, loss_large, w_large, b_large = train(LEARNING_RATE, EPOCHS, X_train, y_train, w_large, b_large)"
   ]
  },
  {
   "cell_type": "code",
   "execution_count": 26,
   "id": "eb43349b",
   "metadata": {},
   "outputs": [
    {
     "data": {
      "image/png": "[encoded data removed]",
      "text/plain": [
       "<Figure size 640x480 with 1 Axes>"
      ]
     },
     "metadata": {},
     "output_type": "display_data"
    }
   ],
   "source": [
    "draw_loss(np.array(range(EPOCHS))+1, loss_small, loss_exact, loss_large)"
   ]
  },
  {
   "cell_type": "code",
   "execution_count": 28,
   "id": "26ffb020",
   "metadata": {},
   "outputs": [
    {
     "name": "stdout",
     "output_type": "stream",
     "text": [
      "Loss with test data:  0.01597170326910379 \n",
      "Number of sameples:  24108\n"
     ]
    }
   ],
   "source": [
    "pred = test(X_test, y_test, w_small, b_small)\n",
    "print(\"Loss with test data: \", np.array(pred)[0], \"\\nNumber of sameples: \", len(y_test))"
   ]
  },
  {
   "cell_type": "code",
   "execution_count": 27,
   "id": "af024c12",
   "metadata": {},
   "outputs": [
    {
     "name": "stdout",
     "output_type": "stream",
     "text": [
      "Loss with test data:  0.0369260164559858 \n",
      "Number of sameples:  24108\n"
     ]
    }
   ],
   "source": [
    "pred = test(X_test, y_test, w_exact, b_exact)\n",
    "print(\"Loss with test data: \", np.array(pred)[0], \"\\nNumber of sameples: \", len(y_test))"
   ]
  },
  {
   "cell_type": "code",
   "execution_count": 29,
   "id": "7373aa8f",
   "metadata": {},
   "outputs": [
    {
     "name": "stdout",
     "output_type": "stream",
     "text": [
      "Loss with test data:  0.05989538040555713 \n",
      "Number of sameples:  24108\n"
     ]
    }
   ],
   "source": [
    "pred = test(X_test, y_test, w_large, b_large)\n",
    "print(\"Loss with test data: \", np.array(pred)[0], \"\\nNumber of sameples: \", len(y_test))"
   ]
  },
  {
   "attachments": {},
   "cell_type": "markdown",
   "id": "af18d010",
   "metadata": {},
   "source": [
    "Note the optimum batch size lies betweem small and exact. "
   ]
  },
  {
   "attachments": {},
   "cell_type": "markdown",
   "id": "05265cc1",
   "metadata": {},
   "source": [
    "# Logistic Regression\n",
    "### Will it be hotter than 65C?"
   ]
  },
  {
   "attachments": {},
   "cell_type": "markdown",
   "id": "cf362b67",
   "metadata": {},
   "source": [
    "Sigmoid function is f(z) = 1/(1+e^(-z))"
   ]
  },
  {
   "cell_type": "code",
   "execution_count": 30,
   "id": "8cad7a07",
   "metadata": {},
   "outputs": [],
   "source": [
    "def sigmoid(z):\n",
    "    return 1/(1+np.exp(-z))"
   ]
  },
  {
   "attachments": {},
   "cell_type": "markdown",
   "id": "882b2bf6",
   "metadata": {},
   "source": [
    "w is a column vector of weights for each input, b is the bias value"
   ]
  },
  {
   "cell_type": "code",
   "execution_count": 111,
   "id": "536aaa42",
   "metadata": {},
   "outputs": [],
   "source": [
    "# (np.mean(X_train, axis=0), np.std(X_train), 1, 2)\n",
    "# def create_model_parameter(mu, sigma, row, column):\n",
    "#     w = np.random.normal(mu, sigma, size=(row, column))\n",
    "#     w = np.transpose(w)\n",
    "#     w.reshape((2,1))\n",
    "def initialize_params(mu, sigma, dim):\n",
    "    w = np.random.normal(mu, sigma, size=(1,dim))\n",
    "    w = np.transpose(w)\n",
    "    w.reshape((2,1))\n",
    "    b = 0\n",
    "    return w, b"
   ]
  },
  {
   "attachments": {},
   "cell_type": "markdown",
   "id": "03ec539c",
   "metadata": {},
   "source": [
    "Convert y data to binary yes no"
   ]
  },
  {
   "cell_type": "code",
   "execution_count": 73,
   "id": "fe5bcead",
   "metadata": {},
   "outputs": [],
   "source": [
    "def y_as_binary(y):\n",
    "    result = np.ones((len(y),1))\n",
    "    for y_value in y.iloc[:,0]:\n",
    "        i = 0\n",
    "        if y_value > 0.65:\n",
    "            result[i] = 1\n",
    "        else:\n",
    "            result[i] = -1\n",
    "    return result"
   ]
  },
  {
   "cell_type": "markdown",
   "id": "85f3089c",
   "metadata": {},
   "source": []
  },
  {
   "cell_type": "code",
   "execution_count": 81,
   "id": "38f03f80",
   "metadata": {},
   "outputs": [],
   "source": [
    "def propogate(w, b, X, Y):\n",
    "    samples = len(X)\n",
    "    A = sigmoid(np.dot(X,w)+b)\n",
    "    cost = -(np.sum(Y*np.log(A)+(1-Y)*np.log(1-A)))/samples\n",
    "\n",
    "    dZ = A-Y\n",
    "    dw = (np.dot(dZ.T, X))/samples\n",
    "    db = (np.sum(dZ))/samples\n",
    "\n",
    "    grads = {\"dw\": dw,\n",
    "             \"db\": db}\n",
    "    return grads, cost\n"
   ]
  },
  {
   "cell_type": "code",
   "execution_count": 120,
   "id": "d8bfbc60",
   "metadata": {},
   "outputs": [],
   "source": [
    "def optimize(w, b, X, y, num_epochs, lr):\n",
    "    costs = []\n",
    "\n",
    "    for i in range (num_epochs):\n",
    "        grads, cost = propogate(w, b, X, y)\n",
    "        dw = grads[\"dw\"]\n",
    "        db = grads[\"db\"]\n",
    "\n",
    "        w = w - lr*dw\n",
    "        b = b - lr*db\n",
    "\n",
    "        if (i+1) % 100 == 0:\n",
    "            print(\"Epoch [\"+str(i+1)+\" / \" +str(num_epochs)+\"] Cost: \"+str(cost))\n",
    "        costs.append(cost)\n",
    "        print(\"Cost: \"+ str(cost), end='\\r')\n",
    "\n",
    "    params = {\"w\": w,\n",
    "              \"b\": b}\n",
    "    grads = {\"dw\": dw,\n",
    "             \"db\": b}\n",
    "    return params, grads, costs"
   ]
  },
  {
   "cell_type": "code",
   "execution_count": 98,
   "id": "5eaa02a4",
   "metadata": {},
   "outputs": [],
   "source": [
    "def predict(w, b, X):\n",
    "    samples = len(X)\n",
    "    Y_prediction = np.zeros((samples, 1))\n",
    "    A = sigmoid(np.dot(X, w)+b)\n",
    "    for i in range(samples):\n",
    "        if A[i,0]>0.5:\n",
    "            Y_prediction[i,0] = 1\n",
    "        else:\n",
    "            Y_prediction[i,0] = -1\n",
    "    \n",
    "    return Y_prediction"
   ]
  },
  {
   "cell_type": "code",
   "execution_count": 121,
   "id": "1592e6b3",
   "metadata": {},
   "outputs": [
    {
     "name": "stdout",
     "output_type": "stream",
     "text": [
      "Epoch [100 / 2000] Cost: 0.8667066934804778\n",
      "Epoch [200 / 2000] Cost: 0.7991083753338415\n",
      "Epoch [300 / 2000] Cost: 0.739744744543271\n",
      "Epoch [400 / 2000] Cost: 0.6873811266370717\n",
      "Epoch [500 / 2000] Cost: 0.6409867567775882\n",
      "Epoch [600 / 2000] Cost: 0.5997011628249326\n",
      "Epoch [700 / 2000] Cost: 0.5628051291721055\n",
      "Epoch [800 / 2000] Cost: 0.5296961812289005\n",
      "Epoch [900 / 2000] Cost: 0.4998681847484831\n",
      "Epoch [1000 / 2000] Cost: 0.4728945224772821\n",
      "Epoch [1100 / 2000] Cost: 0.4484142946562712\n",
      "Epoch [1200 / 2000] Cost: 0.4261210306091742\n",
      "Epoch [1300 / 2000] Cost: 0.4057534623734119\n",
      "Epoch [1400 / 2000] Cost: 0.3870879800410225\n",
      "Epoch [1500 / 2000] Cost: 0.3699324533107119\n",
      "Epoch [1600 / 2000] Cost: 0.3541211609677475\n",
      "Epoch [1700 / 2000] Cost: 0.33951061859209297\n",
      "Epoch [1800 / 2000] Cost: 0.3259761350812416\n",
      "Epoch [1900 / 2000] Cost: 0.3134089614798596\n",
      "Epoch [2000 / 2000] Cost: 0.301713922229136\n",
      "Accuracy on train set: 0.9999723455151339\n",
      "Accuracy on test set: 1.0\n"
     ]
    },
    {
     "data": {
      "image/png": "[encoded data removed]",
      "text/plain": [
       "<Figure size 640x480 with 1 Axes>"
      ]
     },
     "metadata": {},
     "output_type": "display_data"
    }
   ],
   "source": [
    "w_log, b_log = initialize_params(np.mean(X_train, axis=0), np.std(X_train), 2)\n",
    "log_epochs = 2000\n",
    "log_learning_rate = 0.001\n",
    "Y_train = y_as_binary(y_train)\n",
    "Y_test = y_as_binary(y_test)\n",
    "params, grads, costs = optimize(w_log, b_log, X_train, Y_train, log_epochs, log_learning_rate)\n",
    "w_log = params['w']\n",
    "b_log = params['b']\n",
    "\n",
    "prediction_train = predict(w_log, b_log, X_train)\n",
    "prediction_test = predict(w_log, b_log, X_test)\n",
    "\n",
    "accuracy_train = 1 - np.mean(np.abs(prediction_train - Y_train))\n",
    "accuracy_test = 1- np.mean(np.abs(prediction_test - Y_test))\n",
    "print(\"Accuracy on train set: \"+str(accuracy_train))\n",
    "print(\"Accuracy on test set: \"+str(accuracy_test))\n",
    "plt.plot(np.array(range(log_epochs))+1, costs) \n",
    "#plt.ylim(0,0.7)\n",
    "plt.title(\"Number of Epochs VS Costs\")\n",
    "plt.xlabel(\"Epoch\")\n",
    "plt.ylabel(\"Cost\")\n",
    "plt.show()\n"
   ]
  }
 ],
 "metadata": {
  "kernelspec": {
   "display_name": "Python 3",
   "language": "python",
   "name": "python3"
  },
  "language_info": {
   "codemirror_mode": {
    "name": "ipython",
    "version": 3
   },
   "file_extension": ".py",
   "mimetype": "text/x-python",
   "name": "python",
   "nbconvert_exporter": "python",
   "pygments_lexer": "ipython3",
   "version": "3.10.6"
  },
  "vscode": {
   "interpreter": {
    "hash": "7435e630dfbed01b727b481b4dd96da47219958bf99583019519e220bd168f86"
   }
  }
 },
 "nbformat": 4,
 "nbformat_minor": 5
}
