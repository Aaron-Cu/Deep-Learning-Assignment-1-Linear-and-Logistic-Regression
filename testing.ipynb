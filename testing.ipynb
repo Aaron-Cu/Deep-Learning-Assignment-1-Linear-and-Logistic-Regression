{
 "cells": [
  {
   "cell_type": "code",
   "execution_count": 1,
   "metadata": {},
   "outputs": [
    {
     "name": "stdout",
     "output_type": "stream",
     "text": [
      "(7, 2) (3, 2) (7, 1) (3, 1)\n",
      "[[0.83595533]\n",
      " [0.53329292]] 0\n",
      "[[1.26822718]\n",
      " [1.07464185]\n",
      " [1.23942936]\n",
      " [0.93252944]\n",
      " [1.21806986]\n",
      " [1.21806986]\n",
      " [1.12479917]]\n",
      "   Temperature (C)\n",
      "0         0.554639\n",
      "7         0.318092\n",
      "2         0.470988\n",
      "9         0.098506\n",
      "4         0.491000\n",
      "3         0.512832\n",
      "6         0.395828\n"
     ]
    }
   ],
   "source": [
    "import numpy as np\n",
    "import pandas as pd\n",
    "import random\n",
    "from sklearn.model_selection import train_test_split\n",
    "\n",
    "datafile = \"test.csv\"\n",
    "\n",
    "def get_data(filename):\n",
    "    df = pd.read_csv(filename)\n",
    "    X_ = df[[\"Humidity\",\"Visibility (km)\"]]\n",
    "    Y_ = df[[\"Temperature (C)\"]]\n",
    "    \n",
    "    # Spliting data into train and test sets\n",
    "    X_train, X_test, y_train, y_test = train_test_split(X_, Y_, test_size=0.25, random_state=42)\n",
    "\n",
    "   \n",
    "    \n",
    "    return X_train, X_test, y_train, y_test\n",
    "\n",
    "X_train, X_test, y_train, y_test = get_data(datafile)\n",
    "print(X_train.shape, X_test.shape, y_train.shape, y_test.shape)\n",
    "# print(X_train,'\\n', X_test, '\\n', y_train, '\\n', y_test)\n",
    "\n",
    "def model(X, w, b):  \n",
    "    \"\"\"The linear regression model.\"\"\"\n",
    "    # write your code here\n",
    "    return np.dot(X, w) + b\n",
    "\n",
    "def squared_loss(y_hat, y):  #@save\n",
    "    \"\"\"Squared loss.\"\"\"\n",
    "    #write your code here for loss function\n",
    "    return np.square(y_hat - y)\n",
    "\n",
    "def create_model_parameter(mu, sigma, row, column):\n",
    "    w = np.random.normal(mu, sigma, size=(row, column))\n",
    "    w = np.transpose(w)\n",
    "    w.reshape((2,1))\n",
    "    b = 0\n",
    "    return w,b\n",
    "\n",
    "def gradient(loss,params):\n",
    "    #compute gradeint of loss function with respect to params\n",
    "    grads = (1/len(loss)) * np.sum(loss)\n",
    "    return grads\n",
    "\n",
    "\n",
    "# print(np.shape(np.array(np.transpose(np.mean(X_train, axis=0))).reshape((2,1))), np.shape(np.array(np.transpose(np.std(X_train))).reshape(2,1)))\n",
    "\n",
    "w, b = create_model_parameter(np.mean(X_train, axis=0), np.std(X_train), 1, 2)\n",
    "print(w,b)\n",
    "y_hat = model(X_train, w, b)\n",
    "print(y_hat)\n",
    "result = squared_loss(y_hat, y_train)\n",
    "print(result)\n",
    "\n",
    "\n",
    "\n"
   ]
  },
  {
   "cell_type": "code",
   "execution_count": null,
   "metadata": {},
   "outputs": [],
   "source": [
    "b = [0, 1, 2, 3, 4, 5, 6, 7, 8, 9 ,10, 11, 12, 13, 17, 13]\n",
    "u = [0, 1, 2, 3, 4, 5, 6, 7, 8, 9 ,10, 11, 12, 13, 17, 13]\n",
    "def get_batch1(batchsiz, c):\n",
    "    numNum = len(c)\n",
    "    for i in range (0, numNum, batchsiz):\n",
    "        yield c[i:min(i + batchsiz, numNum)]\n",
    "def get_batch2(batchsiz, c):\n",
    "    numNum = len(c)\n",
    "    for i in range (0, numNum, batchsiz):\n",
    "        yield c[i:min(i + batchsiz, numNum)]\n",
    "\n",
    "for i in range(0, 10):\n",
    "    batchesx = get_batch1(3, b)\n",
    "    batchesy = get_batch2(3, u)\n",
    "    print(batchesx, batchesy)\n",
    "    for numx in batchesx:\n",
    "        print(type(numx))\n",
    "        print(numx, batchesy)\n",
    "    batches = 0\n",
    "    print(\"epoch over\")"
   ]
  },
  {
   "cell_type": "code",
   "execution_count": 4,
   "metadata": {},
   "outputs": [
    {
     "name": "stdout",
     "output_type": "stream",
     "text": [
      "<generator object get_batch at 0x0000021F71525770>\n",
      "<class 'list'>\n",
      "[0, 1, 2] [0, 1, 2]\n",
      "<class 'list'>\n",
      "[3, 4, 5] [3, 4, 5]\n",
      "<class 'list'>\n",
      "[6, 7, 8] [6, 7, 8]\n",
      "<class 'list'>\n",
      "[9, 10, 11] [9, 10, 11]\n",
      "<class 'list'>\n",
      "[12, 13, 17] [12, 13, 17]\n",
      "<class 'list'>\n",
      "[13] [13]\n",
      "epoch over 0\n",
      "<generator object get_batch at 0x0000021F714B1CB0>\n",
      "<class 'list'>\n",
      "[0, 1, 2] [0, 1, 2]\n",
      "<class 'list'>\n",
      "[3, 4, 5] [3, 4, 5]\n",
      "<class 'list'>\n",
      "[6, 7, 8] [6, 7, 8]\n",
      "<class 'list'>\n",
      "[9, 10, 11] [9, 10, 11]\n",
      "<class 'list'>\n",
      "[12, 13, 17] [12, 13, 17]\n",
      "<class 'list'>\n",
      "[13] [13]\n",
      "epoch over 1\n",
      "<generator object get_batch at 0x0000021F71525770>\n",
      "<class 'list'>\n",
      "[0, 1, 2] [0, 1, 2]\n",
      "<class 'list'>\n",
      "[3, 4, 5] [3, 4, 5]\n",
      "<class 'list'>\n",
      "[6, 7, 8] [6, 7, 8]\n",
      "<class 'list'>\n",
      "[9, 10, 11] [9, 10, 11]\n",
      "<class 'list'>\n",
      "[12, 13, 17] [12, 13, 17]\n",
      "<class 'list'>\n",
      "[13] [13]\n",
      "epoch over 2\n",
      "<generator object get_batch at 0x0000021F71524430>\n",
      "<class 'list'>\n",
      "[0, 1, 2] [0, 1, 2]\n",
      "<class 'list'>\n",
      "[3, 4, 5] [3, 4, 5]\n",
      "<class 'list'>\n",
      "[6, 7, 8] [6, 7, 8]\n",
      "<class 'list'>\n",
      "[9, 10, 11] [9, 10, 11]\n",
      "<class 'list'>\n",
      "[12, 13, 17] [12, 13, 17]\n",
      "<class 'list'>\n",
      "[13] [13]\n",
      "epoch over 3\n",
      "<generator object get_batch at 0x0000021F715243C0>\n",
      "<class 'list'>\n",
      "[0, 1, 2] [0, 1, 2]\n",
      "<class 'list'>\n",
      "[3, 4, 5] [3, 4, 5]\n",
      "<class 'list'>\n",
      "[6, 7, 8] [6, 7, 8]\n",
      "<class 'list'>\n",
      "[9, 10, 11] [9, 10, 11]\n",
      "<class 'list'>\n",
      "[12, 13, 17] [12, 13, 17]\n",
      "<class 'list'>\n",
      "[13] [13]\n",
      "epoch over 4\n",
      "<generator object get_batch at 0x0000021F71524E40>\n",
      "<class 'list'>\n",
      "[0, 1, 2] [0, 1, 2]\n",
      "<class 'list'>\n",
      "[3, 4, 5] [3, 4, 5]\n",
      "<class 'list'>\n",
      "[6, 7, 8] [6, 7, 8]\n",
      "<class 'list'>\n",
      "[9, 10, 11] [9, 10, 11]\n",
      "<class 'list'>\n",
      "[12, 13, 17] [12, 13, 17]\n",
      "<class 'list'>\n",
      "[13] [13]\n",
      "epoch over 5\n",
      "<generator object get_batch at 0x0000021F71524510>\n",
      "<class 'list'>\n",
      "[0, 1, 2] [0, 1, 2]\n",
      "<class 'list'>\n",
      "[3, 4, 5] [3, 4, 5]\n",
      "<class 'list'>\n",
      "[6, 7, 8] [6, 7, 8]\n",
      "<class 'list'>\n",
      "[9, 10, 11] [9, 10, 11]\n",
      "<class 'list'>\n",
      "[12, 13, 17] [12, 13, 17]\n",
      "<class 'list'>\n",
      "[13] [13]\n",
      "epoch over 6\n",
      "<generator object get_batch at 0x0000021F715244A0>\n",
      "<class 'list'>\n",
      "[0, 1, 2] [0, 1, 2]\n",
      "<class 'list'>\n",
      "[3, 4, 5] [3, 4, 5]\n",
      "<class 'list'>\n",
      "[6, 7, 8] [6, 7, 8]\n",
      "<class 'list'>\n",
      "[9, 10, 11] [9, 10, 11]\n",
      "<class 'list'>\n",
      "[12, 13, 17] [12, 13, 17]\n",
      "<class 'list'>\n",
      "[13] [13]\n",
      "epoch over 7\n",
      "<generator object get_batch at 0x0000021F715257E0>\n",
      "<class 'list'>\n",
      "[0, 1, 2] [0, 1, 2]\n",
      "<class 'list'>\n",
      "[3, 4, 5] [3, 4, 5]\n",
      "<class 'list'>\n",
      "[6, 7, 8] [6, 7, 8]\n",
      "<class 'list'>\n",
      "[9, 10, 11] [9, 10, 11]\n",
      "<class 'list'>\n",
      "[12, 13, 17] [12, 13, 17]\n",
      "<class 'list'>\n",
      "[13] [13]\n",
      "epoch over 8\n",
      "<generator object get_batch at 0x0000021F71525850>\n",
      "<class 'list'>\n",
      "[0, 1, 2] [0, 1, 2]\n",
      "<class 'list'>\n",
      "[3, 4, 5] [3, 4, 5]\n",
      "<class 'list'>\n",
      "[6, 7, 8] [6, 7, 8]\n",
      "<class 'list'>\n",
      "[9, 10, 11] [9, 10, 11]\n",
      "<class 'list'>\n",
      "[12, 13, 17] [12, 13, 17]\n",
      "<class 'list'>\n",
      "[13] [13]\n",
      "epoch over 9\n"
     ]
    }
   ],
   "source": [
    "b = [0, 1, 2, 3, 4, 5, 6, 7, 8, 9 ,10, 11, 12, 13, 17, 13]\n",
    "u = [0, 1, 2, 3, 4, 5, 6, 7, 8, 9 ,10, 11, 12, 13, 17, 13]\n",
    "def get_batch(batchsiz, c, m):\n",
    "    numNum = len(c)\n",
    "    for i in range (0, numNum, batchsiz):\n",
    "        yield c[i:min(i + batchsiz, numNum)], m[i:min(i + batchsiz, numNum)]\n",
    "    return\n",
    "\n",
    "\n",
    "for i in range(0, 10):\n",
    "    batchesx = get_batch(3, b, u)\n",
    "    print(batchesx)\n",
    "    for numx, numy in batchesx:\n",
    "        print(type(numx))\n",
    "        print(numx, numy)\n",
    "    print(\"epoch over\", i)"
   ]
  },
  {
   "cell_type": "code",
   "execution_count": 8,
   "metadata": {},
   "outputs": [
    {
     "name": "stdout",
     "output_type": "stream",
     "text": [
      "[[1.   0.95]\n",
      " [1.   0.85]\n",
      " [1.   0.8 ]\n",
      " [1.   0.7 ]\n",
      " [1.   0.6 ]]\n",
      "[[1.   1.   1.   1.   1.  ]\n",
      " [0.95 0.85 0.8  0.7  0.6 ]]\n"
     ]
    }
   ],
   "source": [
    "a = np.array([[1, 0.95],\n",
    "              [1, 0.85],\n",
    "              [1, 0.80],\n",
    "              [1, 0.70],\n",
    "              [1, 0.60]])\n",
    "aT = a.T\n",
    "print(a)\n",
    "print(aT)"
   ]
  },
  {
   "cell_type": "code",
   "execution_count": 9,
   "metadata": {},
   "outputs": [
    {
     "name": "stdout",
     "output_type": "stream",
     "text": [
      "[[5.    3.9  ]\n",
      " [3.9   3.115]]\n"
     ]
    }
   ],
   "source": [
    "aTa = np.dot(aT, a)\n",
    "print(aTa)"
   ]
  },
  {
   "cell_type": "code",
   "execution_count": 10,
   "metadata": {},
   "outputs": [
    {
     "name": "stdout",
     "output_type": "stream",
     "text": [
      "[3.85 3.05]\n"
     ]
    }
   ],
   "source": [
    "hTheta = np.array([0.85, 0.95, 0.70, 0.65, 0.70])\n",
    "aThTheta = np.dot(aT, hTheta)\n",
    "print(aThTheta)"
   ]
  },
  {
   "cell_type": "code",
   "execution_count": 15,
   "metadata": {},
   "outputs": [
    {
     "name": "stdout",
     "output_type": "stream",
     "text": [
      "3.993589743589744\n"
     ]
    }
   ],
   "source": [
    "calc = 3.115*(5.0/3.9)\n",
    "print(calc)"
   ]
  },
  {
   "cell_type": "code",
   "execution_count": 16,
   "metadata": {},
   "outputs": [
    {
     "name": "stdout",
     "output_type": "stream",
     "text": [
      "-0.09358974358974415\n"
     ]
    }
   ],
   "source": [
    "calc2 = 3.9 - calc \n",
    "print(calc2)"
   ]
  },
  {
   "cell_type": "code",
   "execution_count": 18,
   "metadata": {},
   "outputs": [
    {
     "name": "stdout",
     "output_type": "stream",
     "text": [
      "-0.060256410256410486\n"
     ]
    }
   ],
   "source": [
    "calc3 = 3.85 - 3.05*(5.0/3.9)\n",
    "print(calc3)"
   ]
  },
  {
   "cell_type": "code",
   "execution_count": 19,
   "metadata": {},
   "outputs": [
    {
     "name": "stdout",
     "output_type": "stream",
     "text": [
      "0.6438356164383549\n"
     ]
    }
   ],
   "source": [
    "calc4 = calc3/calc2\n",
    "print(calc4)"
   ]
  },
  {
   "cell_type": "code",
   "execution_count": 21,
   "metadata": {},
   "outputs": [
    {
     "name": "stdout",
     "output_type": "stream",
     "text": [
      "0.2678082191780831\n"
     ]
    }
   ],
   "source": [
    "calc5 = (3.05 - 3.115*(calc4))/3.9\n",
    "print(calc5)"
   ]
  },
  {
   "cell_type": "code",
   "execution_count": 22,
   "metadata": {},
   "outputs": [
    {
     "name": "stdout",
     "output_type": "stream",
     "text": [
      "[[1.   0.65]\n",
      " [1.   0.75]\n",
      " [1.   0.77]\n",
      " [1.   0.83]\n",
      " [1.   0.87]]\n",
      "[0.26780822 0.64383562]\n"
     ]
    }
   ],
   "source": [
    "b = np.array([[1, 0.65],\n",
    "              [1, 0.75],\n",
    "              [1, 0.77],\n",
    "              [1, 0.83],\n",
    "              [1, 0.87]])\n",
    "Thetas = np.array([calc5, calc4])\n",
    "print(b)\n",
    "print(Thetas)"
   ]
  },
  {
   "cell_type": "code",
   "execution_count": 23,
   "metadata": {},
   "outputs": [
    {
     "name": "stdout",
     "output_type": "stream",
     "text": [
      "[0.68630137 0.75068493 0.76356164 0.80219178 0.82794521]\n"
     ]
    }
   ],
   "source": [
    "pred = np.dot(b,Thetas)\n",
    "print(pred)"
   ]
  }
 ],
 "metadata": {
  "kernelspec": {
   "display_name": "Python 3",
   "language": "python",
   "name": "python3"
  },
  "language_info": {
   "codemirror_mode": {
    "name": "ipython",
    "version": 3
   },
   "file_extension": ".py",
   "mimetype": "text/x-python",
   "name": "python",
   "nbconvert_exporter": "python",
   "pygments_lexer": "ipython3",
   "version": "3.10.6"
  },
  "orig_nbformat": 4,
  "vscode": {
   "interpreter": {
    "hash": "7435e630dfbed01b727b481b4dd96da47219958bf99583019519e220bd168f86"
   }
  }
 },
 "nbformat": 4,
 "nbformat_minor": 2
}
